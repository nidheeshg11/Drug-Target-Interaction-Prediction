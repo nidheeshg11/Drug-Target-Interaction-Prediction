{
 "cells": [
  {
   "cell_type": "markdown",
   "metadata": {},
   "source": [
    "# Drug - Protein Interaction Prediction"
   ]
  },
  {
   "cell_type": "code",
   "execution_count": 1,
   "metadata": {},
   "outputs": [],
   "source": [
    "# Importing the libraries\n",
    "import pandas as pd\n",
    "import numpy as np\n",
    "import torch\n",
    "import torch.nn as nn\n",
    "import torch.nn.functional as F\n",
    "from torch import Tensor\n",
    "from torch_geometric.data import Data\n",
    "from torch_geometric.nn import GCNConv\n",
    "import scipy.sparse as sp\n",
    "from sklearn.model_selection import KFold"
   ]
  },
  {
   "cell_type": "code",
   "execution_count": 2,
   "metadata": {},
   "outputs": [],
   "source": [
    "from sklearn.metrics import accuracy_score"
   ]
  },
  {
   "cell_type": "code",
   "execution_count": 3,
   "metadata": {},
   "outputs": [
    {
     "data": {
      "text/plain": [
       "True"
      ]
     },
     "execution_count": 3,
     "metadata": {},
     "output_type": "execute_result"
    }
   ],
   "source": [
    "torch.cuda.is_available()"
   ]
  },
  {
   "cell_type": "code",
   "execution_count": 4,
   "metadata": {},
   "outputs": [],
   "source": [
    "# Building the Heterogeneous Network\n",
    "def hetero_generate(drug_drug, drug_simi, prot_prot, prot_simi, A, w1, w2):\n",
    "    drug_fused = w1*drug_simi + drug_drug\n",
    "    prot_fused = w2*prot_simi + prot_prot\n",
    "\n",
    "    drug_diag = pd.DataFrame(index=drug_fused.index, columns=drug_fused.columns, dtype=float)\n",
    "    prot_diag = pd.DataFrame(index=prot_fused.index, columns=prot_fused.columns, dtype=float)\n",
    "    sum_drug = pd.DataFrame(torch.diag(Tensor(drug_fused.sum(axis=1))).numpy())\n",
    "    sum_prot = pd.DataFrame(torch.diag(Tensor(prot_fused.sum(axis=1))).numpy())\n",
    " \n",
    "    drug_inv = sum_drug.apply(lambda x: 1 / np.sqrt(x))\n",
    "    prot_inv = sum_prot.apply(lambda x: 1 / np.sqrt(x))\n",
    "    drug_inv.replace([np.inf, -np.inf], 0, inplace=True)\n",
    "    prot_inv.replace([np.inf, -np.inf], 0, inplace=True)\n",
    "\n",
    "    drug_fused.set_axis([i for i in range(708)], axis=1, inplace=True)\n",
    "    U = (drug_inv.dot(drug_fused)).dot(drug_inv)\n",
    "    prot_fused.set_axis([i for i in range(1512)], axis=1, inplace=True)\n",
    "    P = (prot_inv.dot(prot_fused)).dot(prot_inv)\n",
    "\n",
    "    A.set_axis([i for i in range(708)], axis=0, inplace=True)\n",
    "    A.set_axis([i for i in range(708,2220)], axis=1, inplace=True)\n",
    "\n",
    "    drug_emb = pd.concat([U, A], axis=1)\n",
    "\n",
    "    At = A.transpose()\n",
    "    \n",
    "    At.set_axis([i for i in range(708,2220)], axis=0, inplace=True)\n",
    "    At.set_axis([i for i in range(708)], axis=1, inplace=True)\n",
    "    \n",
    "    P.set_axis([i for i in range(708,2220)], axis=0, inplace=True)\n",
    "    P.set_axis([i for i in range(708,2220)], axis=1, inplace=True)\n",
    "    \n",
    "    prot_emb = pd.concat([At,P], axis=1)\n",
    "    het_net = pd.concat([drug_emb,prot_emb], axis=0)\n",
    "\n",
    "    drug_drug.set_axis([i for i in range(708)], axis=1, inplace=True)\n",
    "    prot_prot.set_axis([i for i in range(708,2220)], axis=0, inplace=True)\n",
    "    prot_prot.set_axis([i for i in range(708,2220)], axis=1, inplace=True)\n",
    "\n",
    "    adj1 = pd.concat([drug_drug, A], axis=1)\n",
    "    adj2 = pd.concat([At, prot_prot], axis=1)\n",
    "    adj = pd.concat([adj1, adj2], axis=0)\n",
    "\n",
    "    adj_coo = sp.coo_matrix(adj)\n",
    "    row_indices = adj_coo.row\n",
    "    col_indices = adj_coo.col\n",
    "    edge_index = torch.tensor([row_indices, col_indices], dtype=torch.long)\n",
    "    het_ten = torch.tensor(het_net.values, dtype=torch.float)\n",
    "\n",
    "    return het_ten, edge_index"
   ]
  },
  {
   "cell_type": "code",
   "execution_count": 5,
   "metadata": {},
   "outputs": [],
   "source": [
    "# Defining the model architecture\n",
    "class GCN(torch.nn.Module):\n",
    "    def __init__(self, in_channels, out_channels, weight_param,  dropout=0.6):\n",
    "        super().__init__()\n",
    "        self.weight_param = torch.nn.Parameter(torch.Tensor(weight_param,weight_param))\n",
    "        torch.nn.init.xavier_uniform_(self.weight_param)\n",
    "        self.conv1 = GCNConv(in_channels, 1024)\n",
    "        self.conv2 = GCNConv(1024 , 512)\n",
    "        self.conv3 = GCNConv(512, 256)\n",
    "        self.conv4 = GCNConv(256 ,out_channels)\n",
    "        self.act = torch.nn.ReLU()\n",
    "    \n",
    "    def forward(self, x, edge_index):\n",
    "        x = self.conv1(x, edge_index)\n",
    "        x = F.dropout(x, p=0.6)\n",
    "        x = self.act(x)\n",
    "        x = self.conv2(x, edge_index)   \n",
    "        x = F.dropout(x, p=0.6)\n",
    "        x = self.act(x)\n",
    "        x = self.conv3(x, edge_index)\n",
    "        x = F.dropout(x, p=0.6)\n",
    "        x = self.act(x)\n",
    "        x = self.conv4(x, edge_index)\n",
    "        x = x.sigmoid()\n",
    "        U = x[:708,:]\n",
    "        V = x[708:,:]\n",
    "        inter = torch.matmul(torch.matmul(U,self.weight_param),V.transpose(0,1))\n",
    "        return inter.sigmoid()"
   ]
  },
  {
   "cell_type": "code",
   "execution_count": 6,
   "metadata": {},
   "outputs": [],
   "source": [
    "# Defining the loss function\n",
    "class WeightedCrossEntropyLoss(nn.Module):\n",
    "    def __init__(self, pos_weight=None, num_drugs=708, num_prots=1512):\n",
    "        super(WeightedCrossEntropyLoss, self).__init__()\n",
    "        self.pos_weight = pos_weight\n",
    "        self.num_drugs = num_drugs\n",
    "        self.num_prots = num_prots\n",
    "\n",
    "    def forward(self, predictions, targets):\n",
    "        bce_loss = nn.BCELoss(weight=self.pos_weight, reduction='sum')\n",
    "        loss = (1/(self.num_drugs*self.num_prots))*bce_loss(predictions, targets)\n",
    "        return loss"
   ]
  },
  {
   "cell_type": "code",
   "execution_count": 7,
   "metadata": {},
   "outputs": [],
   "source": [
    "# Training the model\n",
    "def train(model, hetero_net, edge_index, val_data, optimizer, criterion, gpu, epoch = 4000):\n",
    "    if gpu=='gpu':\n",
    "        device = torch.device(\"cuda\" if torch.cuda.is_available() else \"cpu\")\n",
    "    else:\n",
    "        device = \"cpu\"\n",
    "    model.to(device)\n",
    "    hetero_net = hetero_net.to(device)\n",
    "    edge_index = edge_index.to(device)  \n",
    "    val_data = val_data.to(device)\n",
    "    for e in range(1,epoch+1):\n",
    "        model.train()\n",
    "        optimizer.zero_grad()\n",
    "        out = model(hetero_net, edge_index)\n",
    "        loss = criterion(out, val_data)\n",
    "        loss.backward()\n",
    "        optimizer.step()\n",
    "        if e % 100 == 0:\n",
    "            print('Epoch {}, Loss {}'.format(e,loss))\n",
    "    return model, out"
   ]
  },
  {
   "cell_type": "code",
   "execution_count": 8,
   "metadata": {},
   "outputs": [],
   "source": [
    "At = pd.read_csv('dti/mat_prot_drug.csv')\n",
    "A = At.transpose()"
   ]
  },
  {
   "cell_type": "code",
   "execution_count": 9,
   "metadata": {},
   "outputs": [],
   "source": [
    "drug_simi = pd.read_csv('dti/drug_simi.csv')\n",
    "drug_simi = drug_simi.drop(\"Column709\",axis = 1)"
   ]
  },
  {
   "cell_type": "code",
   "execution_count": 10,
   "metadata": {},
   "outputs": [],
   "source": [
    "prot_simi = pd.read_csv('dti/prot_simi.csv')"
   ]
  },
  {
   "cell_type": "code",
   "execution_count": 11,
   "metadata": {},
   "outputs": [],
   "source": [
    "drug_drug = pd.read_csv('dti/mat_drug_drug.csv')\n",
    "prot_prot = pd.read_csv('dti/mat_prot_prot.csv')"
   ]
  },
  {
   "cell_type": "code",
   "execution_count": 12,
   "metadata": {},
   "outputs": [],
   "source": [
    "w1 = 5\n",
    "w2 = 5"
   ]
  },
  {
   "cell_type": "code",
   "execution_count": null,
   "metadata": {},
   "outputs": [],
   "source": [
    "het_ten, edge_index = hetero_generate(drug_drug, drug_simi, prot_prot, prot_simi, A, w1, w2)"
   ]
  },
  {
   "cell_type": "code",
   "execution_count": 14,
   "metadata": {},
   "outputs": [],
   "source": [
    "data = Data(x=het_ten, edge_index=edge_index)"
   ]
  },
  {
   "cell_type": "code",
   "execution_count": 15,
   "metadata": {},
   "outputs": [],
   "source": [
    "weights = pd.DataFrame(np.ones(shape = (708,1512)))\n",
    "pos_mask = A == 1\n",
    "pos_sam = A.sum().sum()\n",
    "neg_sam = (708*1512) - pos_sam\n",
    "weights[pos_mask] = pos_sam/neg_sam\n",
    "wei_ten = Tensor(weights.values).to('cuda')"
   ]
  },
  {
   "cell_type": "code",
   "execution_count": 16,
   "metadata": {},
   "outputs": [],
   "source": [
    "A_ten = torch.tensor(A.values, dtype=torch.float32)"
   ]
  },
  {
   "cell_type": "code",
   "execution_count": 17,
   "metadata": {},
   "outputs": [
    {
     "name": "stdout",
     "output_type": "stream",
     "text": [
      "Epoch 100, Loss 0.00938374176621437\n",
      "Epoch 200, Loss 0.00849129632115364\n",
      "Epoch 300, Loss 0.007321196608245373\n",
      "Epoch 400, Loss 0.006419534794986248\n",
      "Epoch 500, Loss 0.005697275046259165\n",
      "Epoch 600, Loss 0.005144158378243446\n",
      "Epoch 700, Loss 0.004706823732703924\n",
      "Epoch 800, Loss 0.004257701802998781\n",
      "Epoch 900, Loss 0.0039937859401106834\n",
      "Epoch 1000, Loss 0.0037149330601096153\n",
      "Epoch 1100, Loss 0.00352885271422565\n",
      "Epoch 1200, Loss 0.003233392257243395\n",
      "Epoch 1300, Loss 0.0031085724476724863\n",
      "Epoch 1400, Loss 0.0029646665789186954\n",
      "Epoch 1500, Loss 0.0028533563017845154\n",
      "Epoch 1600, Loss 0.002734668320044875\n",
      "Epoch 1700, Loss 0.002532227896153927\n",
      "Epoch 1800, Loss 0.002555325161665678\n",
      "Epoch 1900, Loss 0.0024026907049119473\n",
      "Epoch 2000, Loss 0.002183341421186924\n",
      "Epoch 2100, Loss 0.002247321419417858\n",
      "Epoch 2200, Loss 0.002095705596730113\n",
      "Epoch 2300, Loss 0.0020342175848782063\n",
      "Epoch 2400, Loss 0.0020327477250248194\n",
      "Epoch 2500, Loss 0.0018765494460240006\n",
      "Epoch 2600, Loss 0.0018631231505423784\n",
      "Epoch 2700, Loss 0.0017323081847280264\n",
      "Epoch 2800, Loss 0.001705117174424231\n",
      "Epoch 2900, Loss 0.0016772521194070578\n",
      "Epoch 3000, Loss 0.0016254557995125651\n",
      "Epoch 3100, Loss 0.0016298771370202303\n",
      "Epoch 3200, Loss 0.0013445760123431683\n",
      "Epoch 3300, Loss 0.0014215637929737568\n",
      "Epoch 3400, Loss 0.0014950537588447332\n",
      "Epoch 3500, Loss 0.0013726657489314675\n",
      "Epoch 3600, Loss 0.0013330921065062284\n",
      "Epoch 3700, Loss 0.00134503492154181\n",
      "Epoch 3800, Loss 0.0013522179797291756\n",
      "Epoch 3900, Loss 0.0012747561559081078\n",
      "Epoch 4000, Loss 0.001258370466530323\n"
     ]
    }
   ],
   "source": [
    "model = GCN(2220, 64, 64, 0.6)\n",
    "optimizer = torch.optim.Adam(model.parameters(), lr=0.01)\n",
    "crit = WeightedCrossEntropyLoss(wei_ten)\n",
    "model, out = train(model, data.x, data.edge_index, A_ten, optimizer, crit, 'gpu', 4000) "
   ]
  }
 ],
 "metadata": {
  "kernelspec": {
   "display_name": "Python 3",
   "language": "python",
   "name": "python3"
  },
  "language_info": {
   "codemirror_mode": {
    "name": "ipython",
    "version": 3
   },
   "file_extension": ".py",
   "mimetype": "text/x-python",
   "name": "python",
   "nbconvert_exporter": "python",
   "pygments_lexer": "ipython3",
   "version": "3.10.12"
  },
  "orig_nbformat": 4
 },
 "nbformat": 4,
 "nbformat_minor": 2
}
